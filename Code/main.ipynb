{
 "cells": [
  {
   "cell_type": "code",
   "execution_count": null,
   "metadata": {},
   "outputs": [],
   "source": [
    "import pandas as pd\n",
    "import numpy as np"
   ]
  },
  {
   "cell_type": "markdown",
   "metadata": {},
   "source": [
    "### Lecture des fichiers"
   ]
  },
  {
   "cell_type": "code",
   "execution_count": null,
   "metadata": {},
   "outputs": [],
   "source": [
    "data_urls = {\n",
    "    \"Élus arrondissements\" : \"https://www.data.gouv.fr/fr/datasets/r/3b6b2281-b9d9-4959-ae9d-c2c166dff118\",\n",
    "    \"Élus municipaux\" : \"https://www.data.gouv.fr/fr/datasets/r/d5f400de-ae3f-4966-8cb6-a85c70c6c24a\",\n",
    "    \"Élus communautaires\" : \"https://www.data.gouv.fr/fr/datasets/r/41d95d7d-b172-4636-ac44-32656367cdc7\",\n",
    "    \"Élus départementaux\" : \"https://www.data.gouv.fr/fr/datasets/r/601ef073-d986-4582-8e1a-ed14dc857fba\",\n",
    "    \"Élus régionaux\" : \"https://www.data.gouv.fr/fr/datasets/r/430e13f9-834b-4411-a1a8-da0b4b6e715c\"\n",
    "}\n",
    "\n",
    "dfs = {}\n",
    "\n",
    "for data_name,url in data_urls.items():\n",
    "    dfs[data_name] = pd.read_csv(url, sep=\";\", dtype=\"str\")"
   ]
  },
  {
   "cell_type": "markdown",
   "metadata": {},
   "source": [
    "> Commentaires : Pour échapper cette erreur :\n",
    "\n",
    "> C:\\Users\\lawan\\AppData\\Local\\Temp\\ipykernel_6288\\1067538451.py:12: DtypeWarning: Columns (0,3,4) have mixed types. Specify dtype option on import or set low_memory=False. dfs[data_name] = pd.read_csv(url, sep=\";\")\n",
    "> C:\\Users\\lawan\\AppData\\Local\\Temp\\ipykernel_6288\\1067538451.py:12: DtypeWarning: Columns (6) have mixed types. Specify dtype option on import or set low_memory=False. dfs[data_name] = pd.read_csv(url, sep=\";\")\n",
    "\n",
    "> J'ai rajouté dtype = \"str\". Ainsi, au chargement, tous les colonnes sera considéré comme des strings. Pendant le netttoyage des données, je mettrai les types adéquats.\n",
    "\n"
   ]
  },
  {
   "cell_type": "code",
   "execution_count": null,
   "metadata": {},
   "outputs": [],
   "source": [
    "for name, data in dfs.items():\n",
    "    print(name,\"\\n\\n\",data.head(5))"
   ]
  },
  {
   "cell_type": "markdown",
   "metadata": {},
   "source": [
    "### Identification des colonnes en commun"
   ]
  },
  {
   "cell_type": "code",
   "execution_count": null,
   "metadata": {},
   "outputs": [],
   "source": [
    "colonnes_liste = {}\n",
    "for name, df in dfs.items():\n",
    "    for column in df.columns:\n",
    "        # Récupérer la valeur de column si elle est déjà dans colonnes_liste, ou lui assigner la valeur {\"nom_colonne\": column, \"occurence_colonne\": 1, \"fichiers\": [name]} par défaut\n",
    "        colonne_info = colonnes_liste.setdefault(column, {\"nom_colonne\": column, \"occurence_colonne\": 1, \"fichiers\": [name]})\n",
    "        \n",
    "        # Rajouter le fichier si il n'est pas encore compté, si non, rien\n",
    "        if name not in colonne_info[\"fichiers\"]:\n",
    "            colonne_info[\"occurence_colonne\"] += 1\n",
    "            colonne_info[\"fichiers\"].append(name)"
   ]
  },
  {
   "cell_type": "code",
   "execution_count": null,
   "metadata": {},
   "outputs": [],
   "source": [
    "for keys,value in colonnes_liste.items():\n",
    "    print(keys, \" : \", value)"
   ]
  },
  {
   "cell_type": "code",
   "execution_count": null,
   "metadata": {},
   "outputs": [],
   "source": [
    "# Transformation en dataFrame pandas\n",
    "colonnes_final = []\n",
    "\n",
    "for value in colonnes_liste.values():\n",
    "    new_value = value.copy() # Afin de modifier sans affecter l'original\n",
    "    new_value[\"fichiers\"] = \",\".join(new_value[\"fichiers\"])\n",
    "    colonnes_final.append(new_value)\n",
    "\n",
    "colonnes_final = pd.DataFrame(colonnes_final)\n",
    "\n",
    "print(colonnes_final.head(5))"
   ]
  },
  {
   "cell_type": "code",
   "execution_count": null,
   "metadata": {},
   "outputs": [],
   "source": [
    "# Colonnes communes\n",
    "colonnes_final[colonnes_final[\"occurence_colonne\"]==5][\"nom_colonne\"]"
   ]
  },
  {
   "cell_type": "markdown",
   "metadata": {},
   "source": [
    "> Commentaires : Il semble que les noms des colonnes soit propres. D'une fichier à une autre, il semble ne pas avoir des colonnes, a-priori identiques qui porterait des noms différents.\n",
    "\n",
    "> **Les colonnes communes** au 5 jeu de données sont :  Nom de l'élu, Prénom de l'élu, Code sexe, Date de naissance, Code de la catégorie socio-professionnelle, Libellé de la catégorie socio-professionnelle, Date de début du mandat, Libellé de la fonction, Date de début de la fonction."
   ]
  },
  {
   "cell_type": "markdown",
   "metadata": {},
   "source": [
    "### Fusion des fichiers"
   ]
  },
  {
   "cell_type": "code",
   "execution_count": null,
   "metadata": {},
   "outputs": [],
   "source": [
    "dfs_concat = pd.concat(dfs,axis=0)\n",
    "dfs_concat = dfs_concat.reset_index().rename(columns={\"level_0\":\"Type d'élu\"})\n",
    "dfs_concat = dfs_concat.drop(columns=[\"level_1\"])\n",
    "print(dfs_concat.head())"
   ]
  },
  {
   "cell_type": "markdown",
   "metadata": {},
   "source": [
    "### Evaluation du jeu de données"
   ]
  },
  {
   "cell_type": "code",
   "execution_count": null,
   "metadata": {},
   "outputs": [],
   "source": [
    "dfs_concat.dtypes"
   ]
  },
  {
   "cell_type": "code",
   "execution_count": null,
   "metadata": {},
   "outputs": [],
   "source": [
    "lignes = 0\n",
    "for name,df in dfs.items():\n",
    "    lignes += df.shape[0]\n",
    "    print(name,\" : \",df.shape)\n",
    "print(\"Nombre de lignes des jeux de données : \", lignes)"
   ]
  },
  {
   "cell_type": "code",
   "execution_count": null,
   "metadata": {},
   "outputs": [],
   "source": [
    "print(\"Nombre de lignes des jeux de données après fusion : \",dfs_concat.shape)"
   ]
  },
  {
   "cell_type": "code",
   "execution_count": 137,
   "metadata": {},
   "outputs": [
    {
     "name": "stdout",
     "output_type": "stream",
     "text": [
      "\n",
      "======= Élus arrondissements ==================\n",
      "Code du département                                0\n",
      "Libellé du département                             0\n",
      "Code de la commune                                 0\n",
      "Libellé de la commune                              0\n",
      "Libellé du secteur                                 0\n",
      "Nom de l'élu                                       0\n",
      "Prénom de l'élu                                    0\n",
      "Code sexe                                          0\n",
      "Date de naissance                                  0\n",
      "Lieu de naissance                                 11\n",
      "Code de la catégorie socio-professionnelle         0\n",
      "Libellé de la catégorie socio-professionnelle      0\n",
      "Date de début du mandat                            0\n",
      "Libellé de la fonction                           626\n",
      "Date de début de la fonction                     626\n",
      "Code de la nuance politique                        0\n",
      "Libellé de la nuance politique                     0\n",
      "dtype: int64\n",
      "\n",
      "======= Élus municipaux ==================\n",
      "Code du département                                  3332\n",
      "Libellé du département                               3332\n",
      "Code de la collectivité à statut particulier       482466\n",
      "Libellé de la collectivité à statut particulier    482466\n",
      "Code de la commune                                      0\n",
      "Libellé de la commune                                   0\n",
      "Nom de l'élu                                            1\n",
      "Prénom de l'élu                                         0\n",
      "Code sexe                                               0\n",
      "Date de naissance                                       0\n",
      "Code de la catégorie socio-professionnelle            143\n",
      "Libellé de la catégorie socio-professionnelle           0\n",
      "Date de début du mandat                                 0\n",
      "Libellé de la fonction                             338970\n",
      "Date de début de la fonction                       338970\n",
      "Code nationalité                                        0\n",
      "dtype: int64\n",
      "\n",
      "======= Élus communautaires ==================\n",
      "Code du département                                  286\n",
      "Libellé du département                               286\n",
      "Code de la collectivité à statut particulier       63727\n",
      "Libellé de la collectivité à statut particulier    63727\n",
      "N° SIREN                                               0\n",
      "Libellé de l'EPCI                                      0\n",
      "Code de la commune de rattachement                    42\n",
      "Libellé de la commune de rattachement                 42\n",
      "Nom de l'élu                                           0\n",
      "Prénom de l'élu                                        0\n",
      "Code sexe                                              0\n",
      "Date de naissance                                      0\n",
      "Code de la catégorie socio-professionnelle            20\n",
      "Libellé de la catégorie socio-professionnelle          0\n",
      "Date de début du mandat                                0\n",
      "Libellé de la fonction                             52119\n",
      "Date de début de la fonction                       52119\n",
      "dtype: int64\n",
      "\n",
      "======= Élus départementaux ==================\n",
      "Code du département                                 0\n",
      "Libellé du département                              0\n",
      "Code du canton                                      0\n",
      "Libellé du canton                                   0\n",
      "Nom de l'élu                                        0\n",
      "Prénom de l'élu                                     0\n",
      "Code sexe                                           0\n",
      "Date de naissance                                   0\n",
      "Code de la catégorie socio-professionnelle          0\n",
      "Libellé de la catégorie socio-professionnelle       0\n",
      "Date de début du mandat                             0\n",
      "Libellé de la fonction                           2885\n",
      "Date de début de la fonction                     2885\n",
      "dtype: int64\n",
      "\n",
      "======= Élus régionaux ==================\n",
      "Code de la région                                   0\n",
      "Libellé de la région                                0\n",
      "Code de la section départementale                   1\n",
      "Libellé de la section départementale                1\n",
      "Nom de l'élu                                        0\n",
      "Prénom de l'élu                                     0\n",
      "Code sexe                                           0\n",
      "Date de naissance                                   0\n",
      "Code de la catégorie socio-professionnelle          1\n",
      "Libellé de la catégorie socio-professionnelle       0\n",
      "Date de début du mandat                             0\n",
      "Libellé de la fonction                           1548\n",
      "Date de début de la fonction                     1548\n",
      "dtype: int64\n"
     ]
    }
   ],
   "source": [
    "# Nombre de NA par colonne pour chaque dataset\n",
    "lignes = 0\n",
    "for name,df in dfs.items():\n",
    "    print(\"\\n=======\",name,\"==================\")\n",
    "    print(df.isna().sum(axis=0))"
   ]
  },
  {
   "cell_type": "code",
   "execution_count": null,
   "metadata": {},
   "outputs": [],
   "source": [
    "## Nombre de NA par colonnes après fusion\n",
    "\n",
    "dfs_concat.isna().sum(axis=0)"
   ]
  },
  {
   "cell_type": "code",
   "execution_count": null,
   "metadata": {},
   "outputs": [],
   "source": [
    "## Nombre de lignes contenant des NA\n",
    "nb_lignes_NA = dfs_concat.isna().any(axis=1).sum()\n",
    "\n",
    "print(\"Nombre de lignes contenant des NA : \", nb_lignes_NA)"
   ]
  },
  {
   "cell_type": "markdown",
   "metadata": {},
   "source": [
    "> **Commentaires** : Toutes les lignes contient des NA"
   ]
  },
  {
   "cell_type": "markdown",
   "metadata": {},
   "source": [
    "###  Nettoyage des données\n",
    "\n",
    "- Les données manquantes qui sont apparus après la fusion des jeux de données seront conservés telles quelles car leur apparition est logique. Les unités d'observation n'étant pas spécifiquement les mêmes Ex. un élu municipal dans un cas et un élu de l'arrondissement dans l'autre.\n",
    "- En ce qui concerne les données manquantes qui étaient déjà présentes, distinctement dans chaque jeu de données :\n",
    "    + Je vais supprimer les colonnes *Code de la collectivité à statut particulier* et *Libellé de la collectivité à statut particulier* car presque la totalité des lignes (86%) est manquante.  (Elus municipaux)\n",
    "    + En me basant sur la colonne *Code de la Commune* et les valeurs présentes pour  *Code du département* et *Libellé du département*, je vais identifier les valeurs de *Code du département et Libellé du département* qui sont manquantes. Si cela ne suffit pas à les identifier, j'utiliserai le fichier de l'INSEE qui recense les départements. (Elus municipaux)\n",
    "    + En ce qui concerne, les valeurs de *libellé de la fonction* qui sont manquantes pour les élus municipaux, je vais analyser les fonctions qu'occupent les valeurs qu'il prend pour les personnes dont la catégorie professionnelle est renseignée. En fonction des résultats, je ferai ou non une imputation. Je ferai de même pour *libellé de la fonction dans élus régionaux.\n",
    "    "
   ]
  }
 ],
 "metadata": {
  "kernelspec": {
   "display_name": "venv",
   "language": "python",
   "name": "python3"
  },
  "language_info": {
   "codemirror_mode": {
    "name": "ipython",
    "version": 3
   },
   "file_extension": ".py",
   "mimetype": "text/x-python",
   "name": "python",
   "nbconvert_exporter": "python",
   "pygments_lexer": "ipython3",
   "version": "3.12.6"
  }
 },
 "nbformat": 4,
 "nbformat_minor": 2
}
