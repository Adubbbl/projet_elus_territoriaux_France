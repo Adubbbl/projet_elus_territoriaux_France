{
 "cells": [
  {
   "cell_type": "code",
   "execution_count": 5,
   "metadata": {},
   "outputs": [],
   "source": [
    "import pandas as pd\n",
    "import numpy as np"
   ]
  },
  {
   "cell_type": "markdown",
   "metadata": {},
   "source": [
    "### Lecture des fichiers"
   ]
  },
  {
   "cell_type": "code",
   "execution_count": 17,
   "metadata": {},
   "outputs": [],
   "source": [
    "data_urls = {\n",
    "    \"Élus arrondissements\" : \"https://www.data.gouv.fr/fr/datasets/r/3b6b2281-b9d9-4959-ae9d-c2c166dff118\",\n",
    "    \"Élus municipaux\" : \"https://www.data.gouv.fr/fr/datasets/r/d5f400de-ae3f-4966-8cb6-a85c70c6c24a\",\n",
    "    \"Élus communautaires\" : \"https://www.data.gouv.fr/fr/datasets/r/41d95d7d-b172-4636-ac44-32656367cdc7\",\n",
    "    \"Élus départementaux\" : \"https://www.data.gouv.fr/fr/datasets/r/601ef073-d986-4582-8e1a-ed14dc857fba\",\n",
    "    \"Élus régionaux\" : \"https://www.data.gouv.fr/fr/datasets/r/430e13f9-834b-4411-a1a8-da0b4b6e715c\"\n",
    "}\n",
    "\n",
    "dfs = {}\n",
    "\n",
    "for data_name,url in data_urls.items():\n",
    "    dfs[data_name] = pd.read_csv(url, sep=\";\", dtype=\"str\")"
   ]
  },
  {
   "cell_type": "markdown",
   "metadata": {},
   "source": [
    "> Commentaires : Pour échapper cette erreur :\n",
    "\n",
    "> C:\\Users\\lawan\\AppData\\Local\\Temp\\ipykernel_6288\\1067538451.py:12: DtypeWarning: Columns (0,3,4) have mixed types. Specify dtype option on import or set low_memory=False. dfs[data_name] = pd.read_csv(url, sep=\";\")\n",
    "> C:\\Users\\lawan\\AppData\\Local\\Temp\\ipykernel_6288\\1067538451.py:12: DtypeWarning: Columns (6) have mixed types. Specify dtype option on import or set low_memory=False. dfs[data_name] = pd.read_csv(url, sep=\";\")\n",
    "\n",
    "> J'ai rajouté dtype = \"str\". Ainsi, au chargement, tous les colonnes sera considéré comme des strings. Pendant le netttoyage des données, je mettrai les types adéquats.\n",
    "\n"
   ]
  },
  {
   "cell_type": "code",
   "execution_count": null,
   "metadata": {},
   "outputs": [
    {
     "name": "stdout",
     "output_type": "stream",
     "text": [
      "Élus arrondissements \n",
      "   Code du département Libellé du département Code de la commune  \\\n",
      "0                  13       Bouches-Du-Rhône              13055   \n",
      "1                  13       Bouches-Du-Rhône              13055   \n",
      "2                  13       Bouches-Du-Rhône              13055   \n",
      "3                  13       Bouches-Du-Rhône              13055   \n",
      "4                  13       Bouches-Du-Rhône              13055   \n",
      "\n",
      "  Libellé de la commune   Libellé du secteur Nom de l'élu Prénom de l'élu  \\\n",
      "0             Marseille  Marseille Secteur 1        AMICO         Patrick   \n",
      "1             Marseille  Marseille Secteur 1      ASPINAS          Gilles   \n",
      "2             Marseille  Marseille Secteur 1       BARLES       Sébastien   \n",
      "3             Marseille  Marseille Secteur 1       BECARD           Leïla   \n",
      "4             Marseille  Marseille Secteur 1   BERNASCONI          Sabine   \n",
      "\n",
      "  Code sexe Date de naissance Lieu de naissance  \\\n",
      "0         M        25/08/1955         MARSEILLE   \n",
      "1         M        24/05/1966         MARSEILLE   \n",
      "2         M        27/08/1973              NICE   \n",
      "3         F        04/03/1972            TROYES   \n",
      "4         F        23/11/1970         Marseille   \n",
      "\n",
      "  Code de la catégorie socio-professionnelle  \\\n",
      "0                                         23   \n",
      "1                                         43   \n",
      "2                                         33   \n",
      "3                                         31   \n",
      "4                                         33   \n",
      "\n",
      "       Libellé de la catégorie socio-professionnelle Date de début du mandat  \\\n",
      "0           Chef d'entreprise de 10 salariés ou plus              28/06/2020   \n",
      "1  Profession intermédiaire de la santé et du tra...              28/06/2020   \n",
      "2                      Cadre de la fonction publique              28/06/2020   \n",
      "3                                Profession libérale              28/06/2020   \n",
      "4                      Cadre de la fonction publique              28/06/2020   \n",
      "\n",
      "                   Libellé de la fonction Date de début de la fonction  \\\n",
      "0                                     NaN                          NaN   \n",
      "1  7ème adjoint au maire d'arrondissement                   12/07/2020   \n",
      "2                                     NaN                          NaN   \n",
      "3  2ème adjoint au maire d'arrondissement                   12/07/2020   \n",
      "4                                     NaN                          NaN   \n",
      "\n",
      "  Code de la nuance politique Libellé de la nuance politique  \n",
      "0                         DVG                  Divers gauche  \n",
      "1                         COM      Parti communiste français  \n",
      "2                         VEC    Europe Ecologie - Les Verts  \n",
      "3                         DVG                  Divers gauche  \n",
      "4                          LR               Les Républicains  \n",
      "Élus municipaux \n",
      "   Code du département Libellé du département  \\\n",
      "0                   1                    Ain   \n",
      "1                   1                    Ain   \n",
      "2                   1                    Ain   \n",
      "3                   1                    Ain   \n",
      "4                   1                    Ain   \n",
      "\n",
      "  Code de la collectivité à statut particulier  \\\n",
      "0                                          NaN   \n",
      "1                                          NaN   \n",
      "2                                          NaN   \n",
      "3                                          NaN   \n",
      "4                                          NaN   \n",
      "\n",
      "  Libellé de la collectivité à statut particulier Code de la commune  \\\n",
      "0                                             NaN               1001   \n",
      "1                                             NaN               1001   \n",
      "2                                             NaN               1001   \n",
      "3                                             NaN               1001   \n",
      "4                                             NaN               1001   \n",
      "\n",
      "     Libellé de la commune Nom de l'élu Prénom de l'élu Code sexe  \\\n",
      "0  L'Abergement-Clémenciat      BEAUDET          Sylvie         F   \n",
      "1  L'Abergement-Clémenciat       BERAUD           Zélie         F   \n",
      "2  L'Abergement-Clémenciat    BOUILLOUX        Delphine         F   \n",
      "3  L'Abergement-Clémenciat       BOULON          Daniel         M   \n",
      "4  L'Abergement-Clémenciat         BUET           Roger         M   \n",
      "\n",
      "  Date de naissance Code de la catégorie socio-professionnelle  \\\n",
      "0        25/03/1967                                         12   \n",
      "1        26/03/1980                                         43   \n",
      "2        02/08/1977                                         38   \n",
      "3        04/03/1951                                         74   \n",
      "4        21/04/1952                                         71   \n",
      "\n",
      "       Libellé de la catégorie socio-professionnelle Date de début du mandat  \\\n",
      "0               Agriculteur sur moyenne exploitation              18/05/2020   \n",
      "1  Profession intermédiaire de la santé et du tra...              18/05/2020   \n",
      "2          Ingénieur et cadre technique d'entreprise              18/05/2020   \n",
      "3                                       Ancien cadre              18/05/2020   \n",
      "4                      Ancien agriculteur exploitant              18/05/2020   \n",
      "\n",
      "  Libellé de la fonction Date de début de la fonction Code nationalité  \n",
      "0                    NaN                          NaN               FR  \n",
      "1                    NaN                          NaN               FR  \n",
      "2                    NaN                          NaN               FR  \n",
      "3                  Maire                   26/05/2020               FR  \n",
      "4  3ème adjoint au Maire                   26/05/2020               FR  \n",
      "Élus communautaires \n",
      "   Code du département Libellé du département  \\\n",
      "0                   1                    Ain   \n",
      "1                   1                    Ain   \n",
      "2                   1                    Ain   \n",
      "3                   1                    Ain   \n",
      "4                   1                    Ain   \n",
      "\n",
      "  Code de la collectivité à statut particulier  \\\n",
      "0                                          NaN   \n",
      "1                                          NaN   \n",
      "2                                          NaN   \n",
      "3                                          NaN   \n",
      "4                                          NaN   \n",
      "\n",
      "  Libellé de la collectivité à statut particulier   N° SIREN  \\\n",
      "0                                             NaN  200029999   \n",
      "1                                             NaN  200029999   \n",
      "2                                             NaN  200029999   \n",
      "3                                             NaN  200029999   \n",
      "4                                             NaN  200029999   \n",
      "\n",
      "                  Libellé de l'EPCI Code de la commune de rattachement  \\\n",
      "0  Cc Rives De L'Ain-Pays Du Cerdon                               1056   \n",
      "1  Cc Rives De L'Ain-Pays Du Cerdon                               1068   \n",
      "2  Cc Rives De L'Ain-Pays Du Cerdon                               1068   \n",
      "3  Cc Rives De L'Ain-Pays Du Cerdon                               1077   \n",
      "4  Cc Rives De L'Ain-Pays Du Cerdon                               1199   \n",
      "\n",
      "  Libellé de la commune de rattachement Nom de l'élu Prénom de l'élu  \\\n",
      "0                   Boyeux-Saint-Jérôme         BELY          Pierre   \n",
      "1                                Cerdon      CHAVENT            Marc   \n",
      "2                                Cerdon        PETIT        Séverine   \n",
      "3                   Challes-La-Montagne     DELPLACE        Isabelle   \n",
      "4                             Jujurieux     ARBILLAT           Odile   \n",
      "\n",
      "  Code sexe Date de naissance Code de la catégorie socio-professionnelle  \\\n",
      "0         M        11/09/1957                                         72   \n",
      "1         M        28/06/1968                                         33   \n",
      "2         F        07/12/1983                                         31   \n",
      "3         F        15/06/1973                                         31   \n",
      "4         F        30/04/1952                                         74   \n",
      "\n",
      "   Libellé de la catégorie socio-professionnelle Date de début du mandat  \\\n",
      "0  Ancien artisan, commerçant, chef d'entreprise              16/07/2020   \n",
      "1                  Cadre de la fonction publique              16/07/2020   \n",
      "2                            Profession libérale              16/07/2020   \n",
      "3                            Profession libérale              03/11/2021   \n",
      "4                                   Ancien cadre              25/05/2020   \n",
      "\n",
      "  Libellé de la fonction Date de début de la fonction  \n",
      "0                    NaN                          NaN  \n",
      "1                    NaN                          NaN  \n",
      "2                    NaN                          NaN  \n",
      "3                    NaN                          NaN  \n",
      "4                    NaN                          NaN  \n",
      "Élus départementaux \n",
      "   Code du département Libellé du département Code du canton  \\\n",
      "0                   1                    Ain            101   \n",
      "1                   1                    Ain            101   \n",
      "2                   1                    Ain            102   \n",
      "3                   1                    Ain            102   \n",
      "4                   1                    Ain            103   \n",
      "\n",
      "   Libellé du canton Nom de l'élu Prénom de l'élu Code sexe Date de naissance  \\\n",
      "0  Ambérieu-En-Bugey       BRUNET            Joël         M        02/05/1955   \n",
      "1  Ambérieu-En-Bugey        PETIT         Aurélie         F        29/08/1982   \n",
      "2           Attignat     FOURNIER        Clotilde         F        01/09/1966   \n",
      "3           Attignat       MARTIN          Walter         M        07/05/1966   \n",
      "4         Valserhône    LARMANJAT             Guy         M        28/09/1962   \n",
      "\n",
      "  Code de la catégorie socio-professionnelle  \\\n",
      "0                                         23   \n",
      "1                                         38   \n",
      "2                                         35   \n",
      "3                                         38   \n",
      "4                                         38   \n",
      "\n",
      "       Libellé de la catégorie socio-professionnelle Date de début du mandat  \\\n",
      "0           Chef d'entreprise de 10 salariés ou plus              01/07/2021   \n",
      "1          Ingénieur et cadre technique d'entreprise              01/07/2021   \n",
      "2  Profession de l'information, des arts et des s...              01/07/2021   \n",
      "3          Ingénieur et cadre technique d'entreprise              01/07/2021   \n",
      "4          Ingénieur et cadre technique d'entreprise              01/07/2021   \n",
      "\n",
      "                         Libellé de la fonction Date de début de la fonction  \n",
      "0                                           NaN                          NaN  \n",
      "1                                           NaN                          NaN  \n",
      "2  9ème Vice-président du conseil départemental                   01/07/2021  \n",
      "3                                           NaN                          NaN  \n",
      "4                                           NaN                          NaN  \n",
      "Élus régionaux \n",
      "   Code de la région Libellé de la région Code de la section départementale  \\\n",
      "0                 1           Guadeloupe                               971   \n",
      "1                 1           Guadeloupe                               971   \n",
      "2                 1           Guadeloupe                               971   \n",
      "3                 1           Guadeloupe                               971   \n",
      "4                 1           Guadeloupe                               971   \n",
      "\n",
      "  Libellé de la section départementale  Nom de l'élu  Prénom de l'élu  \\\n",
      "0                           Guadeloupe      ARMOUGOM  Betty Véronique   \n",
      "1                           Guadeloupe       BAILLET         Patricia   \n",
      "2                           Guadeloupe       BARDAIL             Jean   \n",
      "3                           Guadeloupe     BITUFWILA          Aurélie   \n",
      "4                           Guadeloupe  BONDOT-GALAS         Gersiane   \n",
      "\n",
      "  Code sexe Date de naissance Code de la catégorie socio-professionnelle  \\\n",
      "0         F        09/07/1965                                         23   \n",
      "1         F        17/06/1970                                         37   \n",
      "2         M        30/05/1951                                         75   \n",
      "3         F        21/08/1991                                         42   \n",
      "4         F        09/02/1963                                         42   \n",
      "\n",
      "    Libellé de la catégorie socio-professionnelle Date de début du mandat  \\\n",
      "0        Chef d'entreprise de 10 salariés ou plus              02/07/2021   \n",
      "1  Cadre administratif et commercial d'entreprise              02/07/2021   \n",
      "2               Ancienne profession intermédiaire              02/07/2021   \n",
      "3  Professeur des écoles, instituteur et assimilé              02/07/2021   \n",
      "4  Professeur des écoles, instituteur et assimilé              02/07/2021   \n",
      "\n",
      "                    Libellé de la fonction Date de début de la fonction  \n",
      "0                                      NaN                          NaN  \n",
      "1                                      NaN                          NaN  \n",
      "2  3ème Vice-président du conseil régional                   02/07/2021  \n",
      "3                                      NaN                          NaN  \n",
      "4  8ème Vice-président du conseil régional                   02/07/2021  \n"
     ]
    }
   ],
   "source": [
    "for name, data in dfs.items():\n",
    "    print(name,\"\\n\\n\",data.head(5))"
   ]
  },
  {
   "cell_type": "markdown",
   "metadata": {},
   "source": [
    "### Identification des colonnes en commun"
   ]
  },
  {
   "cell_type": "code",
   "execution_count": 73,
   "metadata": {},
   "outputs": [],
   "source": [
    "colonnes_liste = {}\n",
    "for name, df in dfs.items():\n",
    "    for column in df.columns:\n",
    "        # Récupérer la valeur de column si elle est déjà dans colonnes_liste, ou lui assigner la valeur {\"nom_colonne\": column, \"occurence_colonne\": 1, \"fichiers\": [name]} par défaut\n",
    "        colonne_info = colonnes_liste.setdefault(column, {\"nom_colonne\": column, \"occurence_colonne\": 1, \"fichiers\": [name]})\n",
    "        \n",
    "        # Rajouter le fichier si il n'est pas encore compté, si non, rien\n",
    "        if name not in colonne_info[\"fichiers\"]:\n",
    "            colonne_info[\"occurence_colonne\"] += 1\n",
    "            colonne_info[\"fichiers\"].append(name)"
   ]
  },
  {
   "cell_type": "code",
   "execution_count": 74,
   "metadata": {},
   "outputs": [
    {
     "name": "stdout",
     "output_type": "stream",
     "text": [
      "Code du département  :  {'nom_colonne': 'Code du département', 'occurence_colonne': 4, 'fichiers': ['Élus arrondissements', 'Élus municipaux', 'Élus communautaires', 'Élus départementaux']}\n",
      "Libellé du département  :  {'nom_colonne': 'Libellé du département', 'occurence_colonne': 4, 'fichiers': ['Élus arrondissements', 'Élus municipaux', 'Élus communautaires', 'Élus départementaux']}\n",
      "Code de la commune  :  {'nom_colonne': 'Code de la commune', 'occurence_colonne': 2, 'fichiers': ['Élus arrondissements', 'Élus municipaux']}\n",
      "Libellé de la commune  :  {'nom_colonne': 'Libellé de la commune', 'occurence_colonne': 2, 'fichiers': ['Élus arrondissements', 'Élus municipaux']}\n",
      "Libellé du secteur  :  {'nom_colonne': 'Libellé du secteur', 'occurence_colonne': 1, 'fichiers': ['Élus arrondissements']}\n",
      "Nom de l'élu  :  {'nom_colonne': \"Nom de l'élu\", 'occurence_colonne': 5, 'fichiers': ['Élus arrondissements', 'Élus municipaux', 'Élus communautaires', 'Élus départementaux', 'Élus régionaux']}\n",
      "Prénom de l'élu  :  {'nom_colonne': \"Prénom de l'élu\", 'occurence_colonne': 5, 'fichiers': ['Élus arrondissements', 'Élus municipaux', 'Élus communautaires', 'Élus départementaux', 'Élus régionaux']}\n",
      "Code sexe  :  {'nom_colonne': 'Code sexe', 'occurence_colonne': 5, 'fichiers': ['Élus arrondissements', 'Élus municipaux', 'Élus communautaires', 'Élus départementaux', 'Élus régionaux']}\n",
      "Date de naissance  :  {'nom_colonne': 'Date de naissance', 'occurence_colonne': 5, 'fichiers': ['Élus arrondissements', 'Élus municipaux', 'Élus communautaires', 'Élus départementaux', 'Élus régionaux']}\n",
      "Lieu de naissance  :  {'nom_colonne': 'Lieu de naissance', 'occurence_colonne': 1, 'fichiers': ['Élus arrondissements']}\n",
      "Code de la catégorie socio-professionnelle  :  {'nom_colonne': 'Code de la catégorie socio-professionnelle', 'occurence_colonne': 5, 'fichiers': ['Élus arrondissements', 'Élus municipaux', 'Élus communautaires', 'Élus départementaux', 'Élus régionaux']}\n",
      "Libellé de la catégorie socio-professionnelle  :  {'nom_colonne': 'Libellé de la catégorie socio-professionnelle', 'occurence_colonne': 5, 'fichiers': ['Élus arrondissements', 'Élus municipaux', 'Élus communautaires', 'Élus départementaux', 'Élus régionaux']}\n",
      "Date de début du mandat  :  {'nom_colonne': 'Date de début du mandat', 'occurence_colonne': 5, 'fichiers': ['Élus arrondissements', 'Élus municipaux', 'Élus communautaires', 'Élus départementaux', 'Élus régionaux']}\n",
      "Libellé de la fonction  :  {'nom_colonne': 'Libellé de la fonction', 'occurence_colonne': 5, 'fichiers': ['Élus arrondissements', 'Élus municipaux', 'Élus communautaires', 'Élus départementaux', 'Élus régionaux']}\n",
      "Date de début de la fonction  :  {'nom_colonne': 'Date de début de la fonction', 'occurence_colonne': 5, 'fichiers': ['Élus arrondissements', 'Élus municipaux', 'Élus communautaires', 'Élus départementaux', 'Élus régionaux']}\n",
      "Code de la nuance politique  :  {'nom_colonne': 'Code de la nuance politique', 'occurence_colonne': 1, 'fichiers': ['Élus arrondissements']}\n",
      "Libellé de la nuance politique  :  {'nom_colonne': 'Libellé de la nuance politique', 'occurence_colonne': 1, 'fichiers': ['Élus arrondissements']}\n",
      "Code de la collectivité à statut particulier  :  {'nom_colonne': 'Code de la collectivité à statut particulier', 'occurence_colonne': 2, 'fichiers': ['Élus municipaux', 'Élus communautaires']}\n",
      "Libellé de la collectivité à statut particulier  :  {'nom_colonne': 'Libellé de la collectivité à statut particulier', 'occurence_colonne': 2, 'fichiers': ['Élus municipaux', 'Élus communautaires']}\n",
      "Code nationalité  :  {'nom_colonne': 'Code nationalité', 'occurence_colonne': 1, 'fichiers': ['Élus municipaux']}\n",
      "N° SIREN  :  {'nom_colonne': 'N° SIREN', 'occurence_colonne': 1, 'fichiers': ['Élus communautaires']}\n",
      "Libellé de l'EPCI  :  {'nom_colonne': \"Libellé de l'EPCI\", 'occurence_colonne': 1, 'fichiers': ['Élus communautaires']}\n",
      "Code de la commune de rattachement  :  {'nom_colonne': 'Code de la commune de rattachement', 'occurence_colonne': 1, 'fichiers': ['Élus communautaires']}\n",
      "Libellé de la commune de rattachement  :  {'nom_colonne': 'Libellé de la commune de rattachement', 'occurence_colonne': 1, 'fichiers': ['Élus communautaires']}\n",
      "Code du canton  :  {'nom_colonne': 'Code du canton', 'occurence_colonne': 1, 'fichiers': ['Élus départementaux']}\n",
      "Libellé du canton  :  {'nom_colonne': 'Libellé du canton', 'occurence_colonne': 1, 'fichiers': ['Élus départementaux']}\n",
      "Code de la région  :  {'nom_colonne': 'Code de la région', 'occurence_colonne': 1, 'fichiers': ['Élus régionaux']}\n",
      "Libellé de la région  :  {'nom_colonne': 'Libellé de la région', 'occurence_colonne': 1, 'fichiers': ['Élus régionaux']}\n",
      "Code de la section départementale  :  {'nom_colonne': 'Code de la section départementale', 'occurence_colonne': 1, 'fichiers': ['Élus régionaux']}\n",
      "Libellé de la section départementale  :  {'nom_colonne': 'Libellé de la section départementale', 'occurence_colonne': 1, 'fichiers': ['Élus régionaux']}\n"
     ]
    }
   ],
   "source": [
    "for keys,value in colonnes_liste.items():\n",
    "    print(keys, \" : \", value)"
   ]
  },
  {
   "cell_type": "code",
   "execution_count": 79,
   "metadata": {},
   "outputs": [
    {
     "name": "stdout",
     "output_type": "stream",
     "text": [
      "              nom_colonne  occurence_colonne  \\\n",
      "0     Code du département                  4   \n",
      "1  Libellé du département                  4   \n",
      "2      Code de la commune                  2   \n",
      "3   Libellé de la commune                  2   \n",
      "4      Libellé du secteur                  1   \n",
      "\n",
      "                                            fichiers  \n",
      "0  Élus arrondissements,Élus municipaux,Élus comm...  \n",
      "1  Élus arrondissements,Élus municipaux,Élus comm...  \n",
      "2               Élus arrondissements,Élus municipaux  \n",
      "3               Élus arrondissements,Élus municipaux  \n",
      "4                               Élus arrondissements  \n"
     ]
    }
   ],
   "source": [
    "# Transformation en dataFrame pandas\n",
    "colonnes_final = []\n",
    "\n",
    "for value in colonnes_liste.values():\n",
    "    new_value = value.copy() # Afin de modifier sans affecter l'original\n",
    "    new_value[\"fichiers\"] = \",\".join(new_value[\"fichiers\"])\n",
    "    colonnes_final.append(new_value)\n",
    "\n",
    "colonnes_final = pd.DataFrame(colonnes_final)\n",
    "\n",
    "print(colonnes_final.head(5))"
   ]
  },
  {
   "cell_type": "code",
   "execution_count": 82,
   "metadata": {},
   "outputs": [
    {
     "data": {
      "text/plain": [
       "5                                      Nom de l'élu\n",
       "6                                   Prénom de l'élu\n",
       "7                                         Code sexe\n",
       "8                                 Date de naissance\n",
       "10       Code de la catégorie socio-professionnelle\n",
       "11    Libellé de la catégorie socio-professionnelle\n",
       "12                          Date de début du mandat\n",
       "13                           Libellé de la fonction\n",
       "14                     Date de début de la fonction\n",
       "Name: nom_colonne, dtype: object"
      ]
     },
     "execution_count": 82,
     "metadata": {},
     "output_type": "execute_result"
    }
   ],
   "source": [
    "# Colonnes communes\n",
    "colonnes_final[colonnes_final[\"occurence_colonne\"]==5][\"nom_colonne\"]"
   ]
  },
  {
   "cell_type": "markdown",
   "metadata": {},
   "source": [
    "> Commentaires : Il semble que les noms des colonnes soit propres. D'une fichier à une autre, il semble ne pas avoir des colonnes, a-priori identiques qui porterait des noms différents.\n",
    "\n",
    "> **Les colonnes communes** au 5 jeu de données sont :  Nom de l'élu, Prénom de l'élu, Code sexe, Date de naissance, Code de la catégorie socio-professionnelle, Libellé de la catégorie socio-professionnelle, Date de début du mandat, Libellé de la fonction, Date de début de la fonction."
   ]
  },
  {
   "cell_type": "markdown",
   "metadata": {},
   "source": [
    "### Fusion des fichiers"
   ]
  },
  {
   "cell_type": "code",
   "execution_count": 106,
   "metadata": {},
   "outputs": [
    {
     "name": "stdout",
     "output_type": "stream",
     "text": [
      "             Type d'élu Code du département Libellé du département  \\\n",
      "0  Élus arrondissements                  13       Bouches-Du-Rhône   \n",
      "1  Élus arrondissements                  13       Bouches-Du-Rhône   \n",
      "2  Élus arrondissements                  13       Bouches-Du-Rhône   \n",
      "3  Élus arrondissements                  13       Bouches-Du-Rhône   \n",
      "4  Élus arrondissements                  13       Bouches-Du-Rhône   \n",
      "\n",
      "  Code de la commune Libellé de la commune   Libellé du secteur Nom de l'élu  \\\n",
      "0              13055             Marseille  Marseille Secteur 1        AMICO   \n",
      "1              13055             Marseille  Marseille Secteur 1      ASPINAS   \n",
      "2              13055             Marseille  Marseille Secteur 1       BARLES   \n",
      "3              13055             Marseille  Marseille Secteur 1       BECARD   \n",
      "4              13055             Marseille  Marseille Secteur 1   BERNASCONI   \n",
      "\n",
      "  Prénom de l'élu Code sexe Date de naissance  ... N° SIREN Libellé de l'EPCI  \\\n",
      "0         Patrick         M        25/08/1955  ...      NaN               NaN   \n",
      "1          Gilles         M        24/05/1966  ...      NaN               NaN   \n",
      "2       Sébastien         M        27/08/1973  ...      NaN               NaN   \n",
      "3           Leïla         F        04/03/1972  ...      NaN               NaN   \n",
      "4          Sabine         F        23/11/1970  ...      NaN               NaN   \n",
      "\n",
      "  Code de la commune de rattachement Libellé de la commune de rattachement  \\\n",
      "0                                NaN                                   NaN   \n",
      "1                                NaN                                   NaN   \n",
      "2                                NaN                                   NaN   \n",
      "3                                NaN                                   NaN   \n",
      "4                                NaN                                   NaN   \n",
      "\n",
      "  Code du canton Libellé du canton Code de la région Libellé de la région  \\\n",
      "0            NaN               NaN               NaN                  NaN   \n",
      "1            NaN               NaN               NaN                  NaN   \n",
      "2            NaN               NaN               NaN                  NaN   \n",
      "3            NaN               NaN               NaN                  NaN   \n",
      "4            NaN               NaN               NaN                  NaN   \n",
      "\n",
      "  Code de la section départementale Libellé de la section départementale  \n",
      "0                               NaN                                  NaN  \n",
      "1                               NaN                                  NaN  \n",
      "2                               NaN                                  NaN  \n",
      "3                               NaN                                  NaN  \n",
      "4                               NaN                                  NaN  \n",
      "\n",
      "[5 rows x 31 columns]\n"
     ]
    }
   ],
   "source": [
    "dfs_concat = pd.concat(dfs,axis=0)\n",
    "dfs_concat = dfs_concat.reset_index().rename(columns={\"level_0\":\"Type d'élu\"})\n",
    "dfs_concat = dfs_concat.drop(columns=[\"level_1\"])\n",
    "print(dfs_concat.head())"
   ]
  },
  {
   "cell_type": "markdown",
   "metadata": {},
   "source": [
    "### Evaluation du jeu de données"
   ]
  },
  {
   "cell_type": "code",
   "execution_count": 107,
   "metadata": {},
   "outputs": [
    {
     "data": {
      "text/plain": [
       "Type d'élu                                         object\n",
       "Code du département                                object\n",
       "Libellé du département                             object\n",
       "Code de la commune                                 object\n",
       "Libellé de la commune                              object\n",
       "Libellé du secteur                                 object\n",
       "Nom de l'élu                                       object\n",
       "Prénom de l'élu                                    object\n",
       "Code sexe                                          object\n",
       "Date de naissance                                  object\n",
       "Lieu de naissance                                  object\n",
       "Code de la catégorie socio-professionnelle         object\n",
       "Libellé de la catégorie socio-professionnelle      object\n",
       "Date de début du mandat                            object\n",
       "Libellé de la fonction                             object\n",
       "Date de début de la fonction                       object\n",
       "Code de la nuance politique                        object\n",
       "Libellé de la nuance politique                     object\n",
       "Code de la collectivité à statut particulier       object\n",
       "Libellé de la collectivité à statut particulier    object\n",
       "Code nationalité                                   object\n",
       "N° SIREN                                           object\n",
       "Libellé de l'EPCI                                  object\n",
       "Code de la commune de rattachement                 object\n",
       "Libellé de la commune de rattachement              object\n",
       "Code du canton                                     object\n",
       "Libellé du canton                                  object\n",
       "Code de la région                                  object\n",
       "Libellé de la région                               object\n",
       "Code de la section départementale                  object\n",
       "Libellé de la section départementale               object\n",
       "dtype: object"
      ]
     },
     "execution_count": 107,
     "metadata": {},
     "output_type": "execute_result"
    }
   ],
   "source": [
    "dfs_concat.dtypes"
   ]
  },
  {
   "cell_type": "code",
   "execution_count": 118,
   "metadata": {},
   "outputs": [
    {
     "name": "stdout",
     "output_type": "stream",
     "text": [
      "(1025, 17)\n",
      "(489972, 16)\n",
      "(64885, 17)\n",
      "(4050, 13)\n",
      "(1748, 13)\n",
      "Nombre de lignes des jeux de données :  561680\n"
     ]
    }
   ],
   "source": [
    "lignes = 0\n",
    "for df in dfs.values():\n",
    "    lignes += df.shape[0]\n",
    "    print(df.shape)\n",
    "print(\"Nombre de lignes des jeux de données : \", lignes)"
   ]
  },
  {
   "cell_type": "code",
   "execution_count": 119,
   "metadata": {},
   "outputs": [
    {
     "name": "stdout",
     "output_type": "stream",
     "text": [
      "Nombre de lignes des jeux de données après fusion :  (561680, 31)\n"
     ]
    }
   ],
   "source": [
    "print(\"Nombre de lignes des jeux de données après fusion : \",dfs_concat.shape)"
   ]
  },
  {
   "cell_type": "code",
   "execution_count": null,
   "metadata": {},
   "outputs": [
    {
     "data": {
      "text/plain": [
       "Type d'élu                                              0\n",
       "Code du département                                  5366\n",
       "Libellé du département                               5366\n",
       "Code de la commune                                  70683\n",
       "Libellé de la commune                               70683\n",
       "Libellé du secteur                                 560655\n",
       "Nom de l'élu                                            1\n",
       "Prénom de l'élu                                         0\n",
       "Code sexe                                               0\n",
       "Date de naissance                                       0\n",
       "Lieu de naissance                                  560666\n",
       "Code de la catégorie socio-professionnelle            164\n",
       "Libellé de la catégorie socio-professionnelle           0\n",
       "Date de début du mandat                                 0\n",
       "Libellé de la fonction                             396148\n",
       "Date de début de la fonction                       396148\n",
       "Code de la nuance politique                        560655\n",
       "Libellé de la nuance politique                     560655\n",
       "Code de la collectivité à statut particulier       553016\n",
       "Libellé de la collectivité à statut particulier    553016\n",
       "Code nationalité                                    71708\n",
       "N° SIREN                                           496795\n",
       "Libellé de l'EPCI                                  496795\n",
       "Code de la commune de rattachement                 496837\n",
       "Libellé de la commune de rattachement              496837\n",
       "Code du canton                                     557630\n",
       "Libellé du canton                                  557630\n",
       "Code de la région                                  559932\n",
       "Libellé de la région                               559932\n",
       "Code de la section départementale                  559933\n",
       "Libellé de la section départementale               559933\n",
       "dtype: int64"
      ]
     },
     "execution_count": 122,
     "metadata": {},
     "output_type": "execute_result"
    }
   ],
   "source": [
    "## Nombre de NA par colonnes\n",
    "\n",
    "dfs_concat.isna().sum(axis=0)"
   ]
  },
  {
   "cell_type": "code",
   "execution_count": 128,
   "metadata": {},
   "outputs": [
    {
     "name": "stdout",
     "output_type": "stream",
     "text": [
      "Nombre de lignes contenant des NA :  561680\n"
     ]
    }
   ],
   "source": [
    "## Nombre de lignes contenant des NA\n",
    "nb_lignes_NA = dfs_concat.isna().any(axis=1).sum()\n",
    "\n",
    "print(\"Nombre de lignes contenant des NA : \", nb_lignes_NA)"
   ]
  },
  {
   "cell_type": "markdown",
   "metadata": {},
   "source": [
    "> **Commentaires** : Toutes les lignes contient des NA"
   ]
  }
 ],
 "metadata": {
  "kernelspec": {
   "display_name": "venv",
   "language": "python",
   "name": "python3"
  },
  "language_info": {
   "codemirror_mode": {
    "name": "ipython",
    "version": 3
   },
   "file_extension": ".py",
   "mimetype": "text/x-python",
   "name": "python",
   "nbconvert_exporter": "python",
   "pygments_lexer": "ipython3",
   "version": "3.12.6"
  }
 },
 "nbformat": 4,
 "nbformat_minor": 2
}
